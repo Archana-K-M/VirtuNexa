{
  "nbformat": 4,
  "nbformat_minor": 0,
  "metadata": {
    "colab": {
      "provenance": []
    },
    "kernelspec": {
      "name": "python3",
      "display_name": "Python 3"
    },
    "language_info": {
      "name": "python"
    }
  },
  "cells": [
    {
      "cell_type": "code",
      "execution_count": 1,
      "metadata": {
        "colab": {
          "base_uri": "https://localhost:8080/"
        },
        "id": "wFhCHIBoRC20",
        "outputId": "9b707820-f54d-4080-83a8-769c28b18e2b"
      },
      "outputs": [
        {
          "output_type": "stream",
          "name": "stdout",
          "text": [
            "\n",
            "You wake up in a dark dungeon. You have no memory of how you got here.\n",
            "There are two paths ahead:\n",
            "1. Take the left path.\n",
            "2. Take the right path.\n",
            "\n",
            "Choose (1 or 2): 2\n",
            "\n",
            "You walk into a room filled with strange symbols on the walls.\n",
            "1. Touch the symbols.\n",
            "2. Look around carefully.\n",
            "\n",
            "Choose (1 or 2): 1\n",
            "\n",
            "The symbols glow, and suddenly a trapdoor opens beneath you!\n",
            "You fall into a pit. Game Over! ☠️\n"
          ]
        }
      ],
      "source": [
        "import time\n",
        "\n",
        "# Player Inventory\n",
        "inventory = []\n",
        "\n",
        "def slow_print(text, delay=0.05):\n",
        "    \"\"\"Prints text with a typing effect.\"\"\"\n",
        "    for char in text:\n",
        "        print(char, end=\"\", flush=True)\n",
        "        time.sleep(delay)\n",
        "    print()\n",
        "\n",
        "def start_game():\n",
        "    \"\"\"Starting point of the game.\"\"\"\n",
        "    slow_print(\"\\nYou wake up in a dark dungeon. You have no memory of how you got here.\")\n",
        "    slow_print(\"There are two paths ahead:\")\n",
        "    slow_print(\"1. Take the left path.\")\n",
        "    slow_print(\"2. Take the right path.\")\n",
        "\n",
        "    choice = input(\"\\nChoose (1 or 2): \")\n",
        "    if choice == \"1\":\n",
        "        left_path()\n",
        "    elif choice == \"2\":\n",
        "        right_path()\n",
        "    else:\n",
        "        slow_print(\"Invalid choice. Try again.\")\n",
        "        start_game()\n",
        "\n",
        "def left_path():\n",
        "    \"\"\"Scenario for choosing the left path.\"\"\"\n",
        "    slow_print(\"\\nYou walk down a narrow, damp corridor and find an old wooden chest.\")\n",
        "    slow_print(\"1. Open the chest.\")\n",
        "    slow_print(\"2. Ignore the chest and move forward.\")\n",
        "\n",
        "    choice = input(\"\\nChoose (1 or 2): \")\n",
        "    if choice == \"1\":\n",
        "        open_chest()\n",
        "    elif choice == \"2\":\n",
        "        slow_print(\"\\nYou move forward and find a locked door. You need a key!\")\n",
        "        slow_print(\"You decide to go back.\")\n",
        "        left_path()\n",
        "    else:\n",
        "        slow_print(\"Invalid choice. Try again.\")\n",
        "        left_path()\n",
        "\n",
        "def open_chest():\n",
        "    \"\"\"Scenario for opening the chest.\"\"\"\n",
        "    slow_print(\"\\nYou open the chest and find a rusty key inside!\")\n",
        "    inventory.append(\"Rusty Key\")\n",
        "    slow_print(\"You take the key and move forward.\")\n",
        "    slow_print(\"You find a locked door.\")\n",
        "\n",
        "    if \"Rusty Key\" in inventory:\n",
        "        slow_print(\"You use the key to open the door. You escaped the dungeon! 🎉\")\n",
        "    else:\n",
        "        slow_print(\"You need a key to open the door. You are trapped!\")\n",
        "\n",
        "def right_path():\n",
        "    \"\"\"Scenario for choosing the right path.\"\"\"\n",
        "    slow_print(\"\\nYou walk into a room filled with strange symbols on the walls.\")\n",
        "    slow_print(\"1. Touch the symbols.\")\n",
        "    slow_print(\"2. Look around carefully.\")\n",
        "\n",
        "    choice = input(\"\\nChoose (1 or 2): \")\n",
        "    if choice == \"1\":\n",
        "        slow_print(\"\\nThe symbols glow, and suddenly a trapdoor opens beneath you!\")\n",
        "        slow_print(\"You fall into a pit. Game Over! ☠️\")\n",
        "    elif choice == \"2\":\n",
        "        slow_print(\"\\nYou find a hidden lever behind the wall and pull it.\")\n",
        "        slow_print(\"A secret door opens leading outside. You escaped the dungeon! 🎉\")\n",
        "    else:\n",
        "        slow_print(\"Invalid choice. Try again.\")\n",
        "        right_path()\n",
        "\n",
        "if __name__ == \"__main__\":\n",
        "    start_game()\n"
      ]
    }
  ]
}